{
 "cells": [
  {
   "cell_type": "markdown",
   "metadata": {},
   "source": [
    "## Insights"
   ]
  },
  {
   "cell_type": "markdown",
   "metadata": {},
   "source": [
    "##### Commonly used Dog names (after and before cleaning the data)"
   ]
  },
  {
   "cell_type": "markdown",
   "metadata": {},
   "source": [
    "The most commanly used Name is actually 'Sampson', whereas it would have appeared to be 'a' which on investigating \n",
    "was found to be default name or the issue with the parsing of text to extract the name of dog"
   ]
  },
  {
   "cell_type": "markdown",
   "metadata": {},
   "source": [
    "![CommonDogNameCleaned](Data/CommonDogNameCleaned.png)"
   ]
  },
  {
   "cell_type": "markdown",
   "metadata": {},
   "source": [
    "![CommonDogNameUncleaned](Data/CommonDogNameUncleaned.png)"
   ]
  },
  {
   "cell_type": "markdown",
   "metadata": {},
   "source": [
    "#####  Common ratings (after and before cleaning the data)"
   ]
  },
  {
   "cell_type": "markdown",
   "metadata": {},
   "source": [
    "Most of the dogs got the rating 12/10 as seen in (Cleaned data ) chart and highest rating is 27, whereas in Uncleaned data chart the highest ratings seems to be 1176 which was not accurate."
   ]
  },
  {
   "cell_type": "markdown",
   "metadata": {},
   "source": [
    "![CommonRatingCleaned](CommonRatingCleaned.png)"
   ]
  },
  {
   "cell_type": "markdown",
   "metadata": {},
   "source": [
    "![CommonRatingUncleaned](CommonRatingUncleaned.png)"
   ]
  },
  {
   "cell_type": "markdown",
   "metadata": {},
   "source": [
    "#### How many dogs in each stage \n",
    "\n",
    "Pupper is the most common stage of dogs among all the posts.\n",
    "\n",
    "`Seems like people like young dogs more !`"
   ]
  },
  {
   "cell_type": "markdown",
   "metadata": {},
   "source": [
    "![DogStages](DogStages.png )"
   ]
  },
  {
   "cell_type": "markdown",
   "metadata": {},
   "source": [
    "##### Most favorited tweet of all"
   ]
  },
  {
   "cell_type": "markdown",
   "metadata": {},
   "source": [
    "<center>This dog is the most favorite dog of all</center>"
   ]
  },
  {
   "cell_type": "markdown",
   "metadata": {},
   "source": [
    "![MostFavDog](MostFavDog.png)"
   ]
  },
  {
   "cell_type": "markdown",
   "metadata": {},
   "source": [
    "#### Most retweeted tweet"
   ]
  },
  {
   "cell_type": "markdown",
   "metadata": {},
   "source": [
    "<center>This dog is the most retweeted dog of all</center>"
   ]
  },
  {
   "cell_type": "markdown",
   "metadata": {},
   "source": [
    "![MostRetweetedDog](MostRetweetedDog.png)"
   ]
  }
 ],
 "metadata": {
  "kernelspec": {
   "display_name": "Python [Root]",
   "language": "python",
   "name": "Python [Root]"
  },
  "language_info": {
   "codemirror_mode": {
    "name": "ipython",
    "version": 2
   },
   "file_extension": ".py",
   "mimetype": "text/x-python",
   "name": "python",
   "nbconvert_exporter": "python",
   "pygments_lexer": "ipython2",
   "version": "2.7.12"
  }
 },
 "nbformat": 4,
 "nbformat_minor": 2
}
